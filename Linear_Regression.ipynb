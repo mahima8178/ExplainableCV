{
  "nbformat": 4,
  "nbformat_minor": 0,
  "metadata": {
    "colab": {
      "name": "Linear Regression.ipynb",
      "provenance": [],
      "collapsed_sections": [],
      "include_colab_link": true
    },
    "kernelspec": {
      "name": "python2",
      "display_name": "Python 2"
    },
    "accelerator": "GPU"
  },
  "cells": [
    {
      "cell_type": "markdown",
      "metadata": {
        "id": "view-in-github",
        "colab_type": "text"
      },
      "source": [
        "<a href=\"https://colab.research.google.com/github/phreakyphoenix/ExplainableCV/blob/master/Linear_Regression.ipynb\" target=\"_parent\"><img src=\"https://colab.research.google.com/assets/colab-badge.svg\" alt=\"Open In Colab\"/></a>"
      ]
    },
    {
      "cell_type": "code",
      "metadata": {
        "id": "P8RJHtzf5STd",
        "colab_type": "code",
        "colab": {
          "base_uri": "https://localhost:8080/",
          "height": 104
        },
        "outputId": "c9d1f0c9-1658-4aa9-acab-121a33590c3f"
      },
      "source": [
        "import numpy as np\n",
        "import tensorflow.compat.v1 as tf\n",
        "tf.disable_v2_behavior()\n",
        "import matplotlib.pyplot as plt"
      ],
      "execution_count": null,
      "outputs": [
        {
          "output_type": "stream",
          "text": [
            "WARNING: Logging before flag parsing goes to stderr.\n",
            "W0702 14:38:26.940964 139725779040128 deprecation.py:323] From /usr/local/lib/python2.7/dist-packages/tensorflow_core/python/compat/v2_compat.py:88: disable_resource_variables (from tensorflow.python.ops.variable_scope) is deprecated and will be removed in a future version.\n",
            "Instructions for updating:\n",
            "non-resource variables are not supported in the long term\n"
          ],
          "name": "stderr"
        }
      ]
    },
    {
      "cell_type": "code",
      "metadata": {
        "id": "p5HjS48K5Us9",
        "colab_type": "code",
        "colab": {}
      },
      "source": [
        "def generate_dataset():\n",
        " x_batch = np.linspace(0, 2, 100)\n",
        " y_batch = 1.5 * x_batch + np.random.randn(*x_batch.shape) * 0.2 + 0.5\n",
        " print x_batch.shape\n",
        " return x_batch, y_batch"
      ],
      "execution_count": null,
      "outputs": []
    },
    {
      "cell_type": "code",
      "metadata": {
        "id": "Y5XjT4jmeKUE",
        "colab_type": "code",
        "colab": {
          "base_uri": "https://localhost:8080/",
          "height": 605
        },
        "outputId": "36750aec-7fc9-4126-ce1d-c8dc36b896ac"
      },
      "source": [
        "x_batch, y_batch = generate_dataset()\n",
        "print x_batch\n",
        "print y_batch"
      ],
      "execution_count": null,
      "outputs": [
        {
          "output_type": "stream",
          "text": [
            "(100,)\n",
            "[0.         0.02020202 0.04040404 0.06060606 0.08080808 0.1010101\n",
            " 0.12121212 0.14141414 0.16161616 0.18181818 0.2020202  0.22222222\n",
            " 0.24242424 0.26262626 0.28282828 0.3030303  0.32323232 0.34343434\n",
            " 0.36363636 0.38383838 0.4040404  0.42424242 0.44444444 0.46464646\n",
            " 0.48484848 0.50505051 0.52525253 0.54545455 0.56565657 0.58585859\n",
            " 0.60606061 0.62626263 0.64646465 0.66666667 0.68686869 0.70707071\n",
            " 0.72727273 0.74747475 0.76767677 0.78787879 0.80808081 0.82828283\n",
            " 0.84848485 0.86868687 0.88888889 0.90909091 0.92929293 0.94949495\n",
            " 0.96969697 0.98989899 1.01010101 1.03030303 1.05050505 1.07070707\n",
            " 1.09090909 1.11111111 1.13131313 1.15151515 1.17171717 1.19191919\n",
            " 1.21212121 1.23232323 1.25252525 1.27272727 1.29292929 1.31313131\n",
            " 1.33333333 1.35353535 1.37373737 1.39393939 1.41414141 1.43434343\n",
            " 1.45454545 1.47474747 1.49494949 1.51515152 1.53535354 1.55555556\n",
            " 1.57575758 1.5959596  1.61616162 1.63636364 1.65656566 1.67676768\n",
            " 1.6969697  1.71717172 1.73737374 1.75757576 1.77777778 1.7979798\n",
            " 1.81818182 1.83838384 1.85858586 1.87878788 1.8989899  1.91919192\n",
            " 1.93939394 1.95959596 1.97979798 2.        ]\n",
            "[0.61218134 0.92351794 0.5733348  0.70622566 0.4951563  0.91200445\n",
            " 0.34703246 0.64612112 0.70086492 0.62292788 0.60222818 1.30946314\n",
            " 0.78866684 1.05168963 0.87718658 1.07888279 0.70946723 1.32216586\n",
            " 0.7427404  1.07495805 1.10228826 1.07230768 1.08141687 1.54201532\n",
            " 1.3726957  1.46380075 1.18813444 1.50044966 1.68692842 0.99503937\n",
            " 1.48963377 1.05687022 1.5952735  1.65001881 1.55914231 1.35248438\n",
            " 1.77782701 1.25696114 1.5463324  1.3488864  1.51308978 1.79486061\n",
            " 1.8999856  1.63420513 1.37080762 1.85927792 1.62997822 1.79006765\n",
            " 1.75123001 1.90756239 1.95443508 1.81566639 2.08885369 2.24256898\n",
            " 2.132622   1.92947549 2.34888748 2.31035812 1.96606217 2.18362683\n",
            " 1.85493845 2.16258369 2.42862195 2.30367001 2.03114747 2.35350481\n",
            " 2.2873116  2.69004382 2.5000994  2.41397619 3.05491275 2.58728647\n",
            " 2.66691789 2.44924271 2.84859778 2.61598967 2.74340846 2.77235384\n",
            " 2.71863582 2.38476836 2.83440094 3.05128326 3.00609167 2.92943775\n",
            " 3.23621885 3.18059546 3.13686577 2.75894706 2.93471739 3.17770617\n",
            " 2.88623643 3.41697944 3.69314    3.09283966 3.30270063 3.7674262\n",
            " 3.02644956 3.40298285 2.94509701 3.50310651]\n"
          ],
          "name": "stdout"
        }
      ]
    },
    {
      "cell_type": "code",
      "metadata": {
        "id": "EmzpQAXvejn9",
        "colab_type": "code",
        "colab": {
          "base_uri": "https://localhost:8080/",
          "height": 286
        },
        "outputId": "1ec25695-fcbb-4499-8273-c40faa5f20b5"
      },
      "source": [
        "plt.scatter(x_batch, y_batch)\n",
        "plt.xlim(0, 2)\n",
        "plt.ylim(0, 2)"
      ],
      "execution_count": null,
      "outputs": [
        {
          "output_type": "execute_result",
          "data": {
            "text/plain": [
              "(0, 2)"
            ]
          },
          "metadata": {
            "tags": []
          },
          "execution_count": 4
        },
        {
          "output_type": "display_data",
          "data": {
            "image/png": "[encoded data removed]",
            "text/plain": [
              "<Figure size 432x288 with 1 Axes>"
            ]
          },
          "metadata": {
            "tags": [],
            "needs_background": "light"
          }
        }
      ]
    },
    {
      "cell_type": "code",
      "metadata": {
        "id": "-e6QBqGv5VfU",
        "colab_type": "code",
        "colab": {}
      },
      "source": [
        "def linear_regression():\n",
        "  x = tf.placeholder(tf.float32, shape=(None, ), name='x')\n",
        "  y = tf.placeholder(tf.float32, shape=(None, ), name='y')\n",
        "\n",
        "  with tf.variable_scope('lreg') as scope:\n",
        "    w = tf.Variable(np.random.normal(), name='W')\n",
        "    b = tf.Variable(np.random.normal(), name='b')\n",
        "\t\t\n",
        "    y_pred = tf.add(tf.multiply(w, x), b)    # w*x + b\n",
        "\n",
        "    loss = tf.reduce_mean(tf.square(y_pred - y))\n",
        "\n",
        "  return x, y, y_pred, loss"
      ],
      "execution_count": null,
      "outputs": []
    },
    {
      "cell_type": "code",
      "metadata": {
        "id": "6_FNchWZ5mkp",
        "colab_type": "code",
        "colab": {
          "base_uri": "https://localhost:8080/",
          "height": 1000
        },
        "outputId": "39119194-53d4-44c4-8f76-cd4ef30709bd"
      },
      "source": [
        "def run():\n",
        "  x_batch, y_batch = generate_dataset()\n",
        "  x, y, y_pred, loss = linear_regression()\n",
        "\n",
        "  optimizer = tf.train.GradientDescentOptimizer(0.1)\n",
        "  train_op = optimizer.minimize(loss)\n",
        "\n",
        "  with tf.Session() as session:\n",
        "    session.run(tf.global_variables_initializer())\n",
        "    feed_dict = {x: x_batch, y: y_batch}\n",
        "\t\t\n",
        "    for i in range(200):\n",
        "      session.run(train_op, feed_dict)\n",
        "      print(i, \"loss:\", loss.eval(feed_dict))\n",
        "\n",
        "    print('Predicting')\n",
        "    y_pred_batch = session.run(y_pred, {x : x_batch})\n",
        "\n",
        "  plt.scatter(x_batch, y_batch)\n",
        "  plt.plot(x_batch, y_pred_batch, color='red')\n",
        "  plt.xlim(0, 2)\n",
        "  plt.ylim(0, 2)\n",
        "  plt.savefig('plot.png')\n",
        "\n",
        "if __name__ == \"__main__\":\n",
        "  run()"
      ],
      "execution_count": null,
      "outputs": [
        {
          "output_type": "stream",
          "text": [
            "(100,)\n",
            "(0, 'loss:', 0.36260486)\n",
            "(1, 'loss:', 0.22245085)\n",
            "(2, 'loss:', 0.173363)\n",
            "(3, 'loss:', 0.15343764)\n",
            "(4, 'loss:', 0.14302713)\n",
            "(5, 'loss:', 0.13588467)\n",
            "(6, 'loss:', 0.13001406)\n",
            "(7, 'loss:', 0.12476776)\n",
            "(8, 'loss:', 0.11992694)\n",
            "(9, 'loss:', 0.11540948)\n",
            "(10, 'loss:', 0.11117737)\n",
            "(11, 'loss:', 0.10720737)\n",
            "(12, 'loss:', 0.1034816)\n",
            "(13, 'loss:', 0.099984504)\n",
            "(14, 'loss:', 0.09670187)\n",
            "(15, 'loss:', 0.09362047)\n",
            "(16, 'loss:', 0.09072801)\n",
            "(17, 'loss:', 0.08801287)\n",
            "(18, 'loss:', 0.08546417)\n",
            "(19, 'loss:', 0.083071716)\n",
            "(20, 'loss:', 0.08082593)\n",
            "(21, 'loss:', 0.078717805)\n",
            "(22, 'loss:', 0.07673892)\n",
            "(23, 'loss:', 0.07488134)\n",
            "(24, 'loss:', 0.07313763)\n",
            "(25, 'loss:', 0.07150083)\n",
            "(26, 'loss:', 0.069964364)\n",
            "(27, 'loss:', 0.06852209)\n",
            "(28, 'loss:', 0.067168236)\n",
            "(29, 'loss:', 0.06589737)\n",
            "(30, 'loss:', 0.06470442)\n",
            "(31, 'loss:', 0.063584596)\n",
            "(32, 'loss:', 0.06253342)\n",
            "(33, 'loss:', 0.061546683)\n",
            "(34, 'loss:', 0.06062044)\n",
            "(35, 'loss:', 0.05975097)\n",
            "(36, 'loss:', 0.058934804)\n",
            "(37, 'loss:', 0.058168683)\n",
            "(38, 'loss:', 0.057449512)\n",
            "(39, 'loss:', 0.056774434)\n",
            "(40, 'loss:', 0.056140732)\n",
            "(41, 'loss:', 0.055545904)\n",
            "(42, 'loss:', 0.054987516)\n",
            "(43, 'loss:', 0.054463368)\n",
            "(44, 'loss:', 0.053971343)\n",
            "(45, 'loss:', 0.053509496)\n",
            "(46, 'loss:', 0.053075943)\n",
            "(47, 'loss:', 0.052668985)\n",
            "(48, 'loss:', 0.052286968)\n",
            "(49, 'loss:', 0.051928367)\n",
            "(50, 'loss:', 0.051591754)\n",
            "(51, 'loss:', 0.05127578)\n",
            "(52, 'loss:', 0.050979167)\n",
            "(53, 'loss:', 0.050700735)\n",
            "(54, 'loss:', 0.05043938)\n",
            "(55, 'loss:', 0.050194055)\n",
            "(56, 'loss:', 0.04996375)\n",
            "(57, 'loss:', 0.04974757)\n",
            "(58, 'loss:', 0.049544655)\n",
            "(59, 'loss:', 0.049354162)\n",
            "(60, 'loss:', 0.04917535)\n",
            "(61, 'loss:', 0.049007505)\n",
            "(62, 'loss:', 0.048849944)\n",
            "(63, 'loss:', 0.048702054)\n",
            "(64, 'loss:', 0.048563223)\n",
            "(65, 'loss:', 0.0484329)\n",
            "(66, 'loss:', 0.048310567)\n",
            "(67, 'loss:', 0.04819573)\n",
            "(68, 'loss:', 0.04808794)\n",
            "(69, 'loss:', 0.047986757)\n",
            "(70, 'loss:', 0.047891766)\n",
            "(71, 'loss:', 0.047802605)\n",
            "(72, 'loss:', 0.047718916)\n",
            "(73, 'loss:', 0.047640353)\n",
            "(74, 'loss:', 0.047566604)\n",
            "(75, 'loss:', 0.047497377)\n",
            "(76, 'loss:', 0.047432393)\n",
            "(77, 'loss:', 0.0473714)\n",
            "(78, 'loss:', 0.047314137)\n",
            "(79, 'loss:', 0.047260385)\n",
            "(80, 'loss:', 0.04720993)\n",
            "(81, 'loss:', 0.04716257)\n",
            "(82, 'loss:', 0.047118112)\n",
            "(83, 'loss:', 0.047076378)\n",
            "(84, 'loss:', 0.04703721)\n",
            "(85, 'loss:', 0.04700043)\n",
            "(86, 'loss:', 0.04696591)\n",
            "(87, 'loss:', 0.046933513)\n",
            "(88, 'loss:', 0.046903096)\n",
            "(89, 'loss:', 0.046874546)\n",
            "(90, 'loss:', 0.046847746)\n",
            "(91, 'loss:', 0.04682258)\n",
            "(92, 'loss:', 0.046798974)\n",
            "(93, 'loss:', 0.0467768)\n",
            "(94, 'loss:', 0.046755992)\n",
            "(95, 'loss:', 0.04673646)\n",
            "(96, 'loss:', 0.046718117)\n",
            "(97, 'loss:', 0.04670091)\n",
            "(98, 'loss:', 0.046684753)\n",
            "(99, 'loss:', 0.046669587)\n",
            "(100, 'loss:', 0.04665535)\n",
            "(101, 'loss:', 0.04664199)\n",
            "(102, 'loss:', 0.046629444)\n",
            "(103, 'loss:', 0.046617664)\n",
            "(104, 'loss:', 0.04660661)\n",
            "(105, 'loss:', 0.046596237)\n",
            "(106, 'loss:', 0.046586502)\n",
            "(107, 'loss:', 0.046577353)\n",
            "(108, 'loss:', 0.046568766)\n",
            "(109, 'loss:', 0.046560716)\n",
            "(110, 'loss:', 0.04655315)\n",
            "(111, 'loss:', 0.04654605)\n",
            "(112, 'loss:', 0.04653939)\n",
            "(113, 'loss:', 0.046533138)\n",
            "(114, 'loss:', 0.046527263)\n",
            "(115, 'loss:', 0.04652175)\n",
            "(116, 'loss:', 0.046516582)\n",
            "(117, 'loss:', 0.046511732)\n",
            "(118, 'loss:', 0.046507165)\n",
            "(119, 'loss:', 0.046502877)\n",
            "(120, 'loss:', 0.046498857)\n",
            "(121, 'loss:', 0.046495095)\n",
            "(122, 'loss:', 0.04649156)\n",
            "(123, 'loss:', 0.04648822)\n",
            "(124, 'loss:', 0.046485115)\n",
            "(125, 'loss:', 0.04648219)\n",
            "(126, 'loss:', 0.046479434)\n",
            "(127, 'loss:', 0.046476863)\n",
            "(128, 'loss:', 0.04647444)\n",
            "(129, 'loss:', 0.046472155)\n",
            "(130, 'loss:', 0.04647003)\n",
            "(131, 'loss:', 0.04646802)\n",
            "(132, 'loss:', 0.046466142)\n",
            "(133, 'loss:', 0.04646438)\n",
            "(134, 'loss:', 0.046462726)\n",
            "(135, 'loss:', 0.04646117)\n",
            "(136, 'loss:', 0.046459705)\n",
            "(137, 'loss:', 0.046458334)\n",
            "(138, 'loss:', 0.046457052)\n",
            "(139, 'loss:', 0.04645584)\n",
            "(140, 'loss:', 0.046454705)\n",
            "(141, 'loss:', 0.04645364)\n",
            "(142, 'loss:', 0.046452645)\n",
            "(143, 'loss:', 0.04645171)\n",
            "(144, 'loss:', 0.04645083)\n",
            "(145, 'loss:', 0.046450004)\n",
            "(146, 'loss:', 0.04644922)\n",
            "(147, 'loss:', 0.04644849)\n",
            "(148, 'loss:', 0.046447817)\n",
            "(149, 'loss:', 0.046447173)\n",
            "(150, 'loss:', 0.046446573)\n",
            "(151, 'loss:', 0.04644601)\n",
            "(152, 'loss:', 0.046445474)\n",
            "(153, 'loss:', 0.046444967)\n",
            "(154, 'loss:', 0.046444505)\n",
            "(155, 'loss:', 0.046444073)\n",
            "(156, 'loss:', 0.046443664)\n",
            "(157, 'loss:', 0.04644328)\n",
            "(158, 'loss:', 0.04644291)\n",
            "(159, 'loss:', 0.046442565)\n",
            "(160, 'loss:', 0.04644225)\n",
            "(161, 'loss:', 0.04644195)\n",
            "(162, 'loss:', 0.046441674)\n",
            "(163, 'loss:', 0.046441402)\n",
            "(164, 'loss:', 0.046441153)\n",
            "(165, 'loss:', 0.04644092)\n",
            "(166, 'loss:', 0.046440706)\n",
            "(167, 'loss:', 0.0464405)\n",
            "(168, 'loss:', 0.046440307)\n",
            "(169, 'loss:', 0.046440125)\n",
            "(170, 'loss:', 0.046439953)\n",
            "(171, 'loss:', 0.046439786)\n",
            "(172, 'loss:', 0.046439644)\n",
            "(173, 'loss:', 0.046439495)\n",
            "(174, 'loss:', 0.046439365)\n",
            "(175, 'loss:', 0.046439245)\n",
            "(176, 'loss:', 0.046439134)\n",
            "(177, 'loss:', 0.046439018)\n",
            "(178, 'loss:', 0.046438914)\n",
            "(179, 'loss:', 0.046438828)\n",
            "(180, 'loss:', 0.04643874)\n",
            "(181, 'loss:', 0.04643865)\n",
            "(182, 'loss:', 0.04643857)\n",
            "(183, 'loss:', 0.046438493)\n",
            "(184, 'loss:', 0.046438422)\n",
            "(185, 'loss:', 0.04643836)\n",
            "(186, 'loss:', 0.0464383)\n",
            "(187, 'loss:', 0.046438232)\n",
            "(188, 'loss:', 0.046438187)\n",
            "(189, 'loss:', 0.04643813)\n",
            "(190, 'loss:', 0.046438083)\n",
            "(191, 'loss:', 0.046438042)\n",
            "(192, 'loss:', 0.046437997)\n",
            "(193, 'loss:', 0.04643796)\n",
            "(194, 'loss:', 0.046437923)\n",
            "(195, 'loss:', 0.04643789)\n",
            "(196, 'loss:', 0.04643785)\n",
            "(197, 'loss:', 0.046437826)\n",
            "(198, 'loss:', 0.046437796)\n",
            "(199, 'loss:', 0.04643776)\n",
            "Predicting\n"
          ],
          "name": "stdout"
        },
        {
          "output_type": "display_data",
          "data": {
            "image/png": "[encoded data removed]",
            "text/plain": [
              "<Figure size 432x288 with 1 Axes>"
            ]
          },
          "metadata": {
            "tags": [],
            "needs_background": "light"
          }
        }
      ]
    },
    {
      "cell_type": "code",
      "metadata": {
        "id": "LLqa2FGUc9wd",
        "colab_type": "code",
        "colab": {}
      },
      "source": [
        ""
      ],
      "execution_count": null,
      "outputs": []
    }
  ]
}